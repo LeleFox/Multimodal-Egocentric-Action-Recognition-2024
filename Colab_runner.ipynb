{
  "cells": [
    {
      "cell_type": "markdown",
      "metadata": {
        "id": "sSMgSkVpfL0_"
      },
      "source": [
        "# AML 2023/2024 Egocentric Vision Project"
      ]
    },
    {
      "cell_type": "markdown",
      "metadata": {
        "id": "meGiaUV0fL1D"
      },
      "source": [
        "#Setup"
      ]
    },
    {
      "cell_type": "code",
      "execution_count": null,
      "metadata": {
        "id": "OCDn1EjWfL1F"
      },
      "outputs": [],
      "source": [
        "# Installing missing dependencies\n",
        "!pip install omegaconf coloredlogs wandb"
      ]
    },
    {
      "cell_type": "markdown",
      "metadata": {
        "id": "I-NkG6fvGZpS"
      },
      "source": [
        "##Download code"
      ]
    },
    {
      "cell_type": "code",
      "source": [
        "#Clone from another repo\n",
        "!rm -r aml23-ego\n",
        "!git clone https://github.com/LeleFox/Multimodal-Egocentric-Action-Recognition-2024.git aml23-ego"
      ],
      "metadata": {
        "id": "TPa_Kp_5eUUv"
      },
      "execution_count": null,
      "outputs": []
    },
    {
      "cell_type": "code",
      "execution_count": null,
      "metadata": {
        "id": "9CI3JU5xfL1H"
      },
      "outputs": [],
      "source": [
        "# Mount google drive\n",
        "from google.colab import drive\n",
        "drive.mount(\"/content/drive/\", force_remount=True)"
      ]
    },
    {
      "cell_type": "markdown",
      "metadata": {
        "id": "ZSODeq0t_30h"
      },
      "source": [
        "# Epic-Kitchen dataset"
      ]
    },
    {
      "cell_type": "markdown",
      "metadata": {
        "id": "75d11xMcKC2c"
      },
      "source": [
        "##Load Data\n"
      ]
    },
    {
      "cell_type": "code",
      "execution_count": null,
      "metadata": {
        "id": "dd3MgG6jfL1H"
      },
      "outputs": [],
      "source": [
        "%%bash\n",
        "\n",
        "#8 mins\n",
        "# As read and write operations from google drive are slow, we suggest to copy and unzip\n",
        "# the dataset in a local directory on the Colab's machine.\n",
        "mkdir -p ek_data/frames\n",
        "\n",
        "# Copy the *.zip files of Epic-Kitchens\n",
        "cp /content/drive/MyDrive/AML/AML_Project_2024/data/Epic_Kitchens_reduced/*.zip ./ek_data\n",
        "\n",
        "# Unzip\n",
        "for file in ./ek_data/*.zip; do\n",
        "  fn=$(basename $file)\n",
        "  fn=${fn/.zip/}\n",
        "  ls -lah $file\n",
        "  mkdir -p ek_data/frames/$fn\n",
        "  unzip -q -j $file -d ek_data/frames/$fn\n",
        "done"
      ]
    },
    {
      "cell_type": "code",
      "execution_count": null,
      "metadata": {
        "id": "7gHpD8ubjdzT"
      },
      "outputs": [],
      "source": [
        "#save in Mydrive the trained network\n",
        "!cp \"aml23-ego/saved_models/MLP_3layers_5clips_16frames_dense_04dropout_NormalizeFalse_FeaturesAverage\" -r \"/content/drive/MyDrive/AML/AML_Project_2024/saved_models/Epic-Kitchen/\""
      ]
    },
    {
      "cell_type": "markdown",
      "metadata": {
        "id": "MA1INs-OfL1I"
      },
      "source": [
        "## Features extraction"
      ]
    },
    {
      "cell_type": "code",
      "execution_count": null,
      "metadata": {
        "id": "88YghJyXhbfS"
      },
      "outputs": [],
      "source": [
        "%%bash\n",
        "\n",
        "cd aml23-ego\n",
        "\n",
        "python save_feat.py \\\n",
        "  name=saved_feat_I3D_10clips_25frames_Uniform_05dropout_NormalizeFalse \\\n",
        "  config=configs/I3D_save_feat.yaml \\\n",
        "  split=train\\\n",
        "  dataset.annotations_path=train_val\\\n",
        "  dataset.RGB.features_name=saved_feat_I3D_5_D1_test.pkl\\\n",
        "  resume_from=/content/drive/MyDrive/AML/AML_Project_2024/saved_models/I3D_SourceOnlyD1 \\\n",
        "  save.num_clips=10 \\\n",
        "  save.num_frames_per_clip.RGB=25 \\\n",
        "  save.dense_sampling.RGB=False\\\n",
        "  dataset.shift=D1-D1 \\\n",
        "  dataset.RGB.data_path=../ek_data/frames\\\n",
        "  models.RGB.dropout=0.5 \\\n",
        "  models.RGB.normalize=False\\"
      ]
    },
    {
      "cell_type": "code",
      "execution_count": null,
      "metadata": {
        "id": "jZydmPaFh6NK"
      },
      "outputs": [],
      "source": [
        "#!ls aml23-ego/saved_features\n",
        "!cp \"aml23-ego/saved_features/saved_feat_I3D_10clips_25frames_Uniform_05dropout_NormalizeFalse_D1_train.pkl\" -r \"/content/drive/MyDrive/AML/AML_Project_2024/saved_features/Epic-Kitchen_RGB/mine/\""
      ]
    },
    {
      "cell_type": "markdown",
      "metadata": {
        "id": "qaoMDOWGu664"
      },
      "source": [
        "##Features Statistics: 2D plot of features"
      ]
    },
    {
      "cell_type": "code",
      "execution_count": null,
      "metadata": {
        "id": "Zg_mxnBJu-Y8"
      },
      "outputs": [],
      "source": [
        "%%bash\n",
        "\n",
        "cd aml23-ego\n",
        "\n",
        "python Feature_stats.py\\\n",
        "  config=configs/I3D_save_feat.yaml\\\n",
        "  name=showing_features_in_2D_space\\\n",
        "  split=test\\\n",
        "  feat_avg=False\\\n",
        "  resume_from=/content/drive/MyDrive/AML/AML_Project_2024/saved_models/I3D_SourceOnlyD1\\\n",
        "  save.num_clips=10\\\n",
        "  save.dense_sampling.RGB=True\\\n",
        "  save.num_frames_per_clip.RGB=25\\\n",
        "  dataset.shift=D1-D1\\\n",
        "  dataset.RGB.data_path=../ek_data/frames\\\n",
        "  dataset.annotations_path=train_val\\\n",
        "  dataset.RGB.features_name=/content/drive/MyDrive/AML/AML_Project_2024/saved_features/Epic-Kitchen_RGB/saved_feat_I3D_5clips_16frames_dense_05dropout_NormalizeFalse\\\n",
        "  models.RGB.dropout=0.5 \\\n",
        "  models.RGB.normalize=False\\"
      ]
    },
    {
      "cell_type": "markdown",
      "metadata": {
        "id": "Uj0EWjDEKqSY"
      },
      "source": [
        "##EPIC-KITCHEN-Classifiers\n",
        "\n"
      ]
    },
    {
      "cell_type": "markdown",
      "metadata": {
        "id": "e_kMC-DWKqoC"
      },
      "source": [
        "We run:"
      ]
    },
    {
      "cell_type": "markdown",
      "metadata": {
        "id": "QmZYD1JU6TpZ"
      },
      "source": [
        "From now on change the configuration file from args.py from \"I3D_save_feat.yaml\" to \"default.yaml\":\n",
        "\n",
        "args = OmegaConf.load(os.path.join(conf_path, \"default.yaml\"))"
      ]
    },
    {
      "cell_type": "code",
      "execution_count": null,
      "metadata": {
        "id": "IUB3ckYJKySZ"
      },
      "outputs": [],
      "source": [
        "%%bash\n",
        "\n",
        "cd aml23-ego\n",
        "\n",
        "python train_classifier.py\\\n",
        "  config=configs/default.yaml\\\n",
        "  action=train\\\n",
        "  name=LSTM_1layers_5clips_16frames_dense_04dropout_NormalizeFalse_LogitsAverage\\\n",
        "  modality=\"['RGB']\"\\\n",
        "  feat_avg=False\\\n",
        "  train.num_clips=5\\\n",
        "  train.dense_sampling.RGB=True\\\n",
        "  train.dense_sampling.EMG=True\\\n",
        "  train.num_frames_per_clip.RGB=16\\\n",
        "  train.num_frames_per_clip.EMG=16\\\n",
        "  test.num_clips=5\\\n",
        "  test.dense_sampling.RGB=True\\\n",
        "  test.dense_sampling.EMG=True\\\n",
        "  test.num_frames_per_clip.RGB=16\\\n",
        "  test.num_frames_per_clip.EMG=16\\\n",
        "  dataset.annotations_path=train_val\\\n",
        "  dataset.shift=D1-D1\\\n",
        "  dataset.RGB.features_name=/content/drive/MyDrive/AML/AML_Project_2024/saved_features/Epic-Kitchen_RGB/saved_feat_I3D_5clips_16frames_dense_05dropout_NormalizeFalse\\\n",
        "  dataset.RGB.data_path=../ek_data/frames\\\n",
        "  dataset.EMG.features_name=/content/drive/MyDrive/AML/AML_Project_2024/data/Action-Net/\\\n",
        "  dataset.EMG.data_path=True\\\n",
        "  models.RGB.model=MLP\\\n",
        "  models.RGB.dropout=0.4\\\n",
        "  models.RGB.normalize=False\\\n",
        "  models.EMG.model=LSTM_EMG\\\n",
        "  models.EMG.dropout=0.4\\\n",
        "  models.EMG.normalize=False\\\n",
        "  models.FUSION.model=FUSION_net\\\n",
        "  models.FUSION.dropout=0.2\\\n",
        "  models.FUSION.normalize=False\\\n",
        "  fusion_modalities:False\\"
      ]
    },
    {
      "cell_type": "code",
      "execution_count": null,
      "metadata": {
        "id": "W_HcZ4PAy4sG"
      },
      "outputs": [],
      "source": [
        "#save in Mydrive the trained network\n",
        "!cp \"aml23-ego/saved_models/LSTM_1layers_5clips_16frames_dense_04dropout_NormalizeFalse_LogitsAverage/Feb23_20-25-35\" -r \"/content/drive/MyDrive/AML/AML_Project_2024/saved_models/Epic-Kitchen/\""
      ]
    },
    {
      "cell_type": "markdown",
      "metadata": {
        "id": "3tO37Qr0Z_8A"
      },
      "source": [
        "#Action-NET\n"
      ]
    },
    {
      "cell_type": "markdown",
      "metadata": {
        "id": "B0I47WUxGawy"
      },
      "source": [
        "##Preprocess EMG data"
      ]
    },
    {
      "cell_type": "code",
      "execution_count": null,
      "metadata": {
        "id": "4irpGCSRGe2i",
        "collapsed": true
      },
      "outputs": [],
      "source": [
        "%%bash\n",
        "\n",
        "cd aml23-ego\n",
        "\n",
        "python action-net/Action-Net_process_data.py\\"
      ]
    },
    {
      "cell_type": "markdown",
      "metadata": {
        "id": "_45nNl1CKLxq"
      },
      "source": [
        "##Extract features for subject S04 RGB flow"
      ]
    },
    {
      "cell_type": "markdown",
      "metadata": {
        "id": "qdlqS_eJRIRM"
      },
      "source": [
        "###Load frames"
      ]
    },
    {
      "cell_type": "code",
      "execution_count": null,
      "metadata": {
        "id": "g9XTuLsLaDoJ",
        "collapsed": true
      },
      "outputs": [],
      "source": [
        "%%bash\n",
        "\n",
        "mkdir -p Action_Net/\n",
        "\n",
        "# Copy the files of Action-Net\n",
        "cp /content/drive/MyDrive/AML/AML_Project_2024/data/Action-Net/Action-Net-RGB/*.zip ./Action_Net\n",
        "\n",
        "# Unzip\n",
        "for file in ./Action_Net/*.zip; do\n",
        "  fn=$(basename $file)\n",
        "  fn=${fn/.zip/}\n",
        "  ls -lah $file\n",
        "  mkdir -p Action_Net/frames/$fn\n",
        "  unzip -q -j $file -d Action_Net/frames/$fn\n",
        "done"
      ]
    },
    {
      "cell_type": "markdown",
      "metadata": {
        "id": "zP7oaYLwRSH9"
      },
      "source": [
        "###Extract RGB features"
      ]
    },
    {
      "cell_type": "code",
      "execution_count": null,
      "metadata": {
        "id": "FrK8FzgPKhLr",
        "collapsed": true
      },
      "outputs": [],
      "source": [
        "%%bash\n",
        "\n",
        "cd aml23-ego\n",
        "\n",
        "python save_feat_ActionNet.py \\\n",
        "  name=ActionNet_saved_feat_I3D_10clips_25frames_Dense_05dropout_NormalizeFalse_10sec-actions_myo-right-timestamps \\\n",
        "  config=configs/I3D_save_feat.yaml \\\n",
        "  split=test\\\n",
        "  feat_avg=False\\\n",
        "  dataset.annotations_path=/content/drive/MyDrive/AML/AML_Project_2024/data/Action-Net\\\n",
        "  dataset.RGB.features_name=Action_Net_saved_feat_I3D_10clips_25frames_Dense_05dropout_NormalizeFalse.pkl\\\n",
        "  dataset.shift=S04-S04\\\n",
        "  resume_from=/content/drive/MyDrive/AML/AML_Project_2024/saved_models/I3D_SourceOnlyD1\\\n",
        "  save.num_clips=10\\\n",
        "  save.num_frames_per_clip.RGB=25\\\n",
        "  save.dense_sampling.RGB=True\\\n",
        "  dataset.RGB.data_path=../Action_Net/frames/frames\\\n",
        "  models.RGB.dropout=0.5 \\\n",
        "  models.RGB.normalize=False\\"
      ]
    },
    {
      "cell_type": "code",
      "execution_count": null,
      "metadata": {
        "id": "Hhm3PkDfgiyv"
      },
      "outputs": [],
      "source": [
        "#!ls aml23-ego/saved_features\n",
        "!cp \"aml23-ego/saved_features/ActionNet_saved_feat_I3D_10clips_25frames_Dense_05dropout_NormalizeFalse_10sec-actions_myo-right-timestamps_S04_test.pkl\" -r \"/content/drive/MyDrive/AML/AML_Project_2024/saved_features/Action-Net-RGB/\""
      ]
    },
    {
      "cell_type": "markdown",
      "metadata": {
        "id": "JIiv76aUGAWd"
      },
      "source": [
        "##EMG preprocessed statistics: Spectrogram\n"
      ]
    },
    {
      "cell_type": "code",
      "execution_count": null,
      "metadata": {
        "id": "8yXYxJ8CGUK7"
      },
      "outputs": [],
      "source": [
        "import torch\n",
        "import torchaudio\n",
        "import torchaudio.functional as F\n",
        "import torchaudio.transforms as T\n",
        "import pandas as pd"
      ]
    },
    {
      "cell_type": "code",
      "execution_count": null,
      "metadata": {
        "id": "zOCl9wX1GUE4"
      },
      "outputs": [],
      "source": [
        "import librosa\n",
        "import matplotlib.pyplot as plt\n",
        "\n",
        "def plot_spectrogram(specgram, title=None, ylabel=\"freq_bin\"):\n",
        "    fig, axs = plt.subplots(len(specgram), 1, figsize=(16, 8))\n",
        "\n",
        "    axs[0].set_title(title or \"Spectrogram (db)\")\n",
        "\n",
        "    for i, spec in enumerate(specgram):\n",
        "        im = axs[i].imshow(librosa.power_to_db(specgram[i]), origin=\"lower\", aspect=\"auto\")\n",
        "        axs[i].get_xaxis().set_visible(False)\n",
        "        axs[i].get_yaxis().set_visible(True)\n",
        "\n",
        "    axs[i].set_xlabel(\"Frame number\")\n",
        "    axs[i].get_xaxis().set_visible(True)\n",
        "    plt.show(block=False)"
      ]
    },
    {
      "cell_type": "code",
      "execution_count": null,
      "metadata": {
        "id": "PHieP6IiGT_E"
      },
      "outputs": [],
      "source": [
        "# Sampling frequency is 160 Hz\n",
        "# With 32 samples the frequency resolution after FFT is 160 / 32\n",
        "\n",
        "n_fft = 32\n",
        "win_length = None\n",
        "hop_length = 4\n",
        "\n",
        "spectrogram = T.Spectrogram(\n",
        "    n_fft=n_fft,\n",
        "    win_length=win_length,\n",
        "    hop_length=hop_length,\n",
        "    center=True,\n",
        "    pad_mode=\"reflect\",\n",
        "    power=2.0,\n",
        "    normalized=True\n",
        ")\n",
        "\n",
        "\n",
        "def compute_spectrogram(signal, title):\n",
        "    freq_signal = [spectrogram(signal[:, i]) for i in range(8)]\n",
        "    plot_spectrogram(freq_signal, title=title)"
      ]
    },
    {
      "cell_type": "code",
      "execution_count": null,
      "metadata": {
        "id": "8XtLnDLRGT4F"
      },
      "outputs": [],
      "source": [
        "# Replace with your path to one of the subjects from Action-Net\n",
        "emg_annotations = pd.read_pickle(\"/content/drive/MyDrive/AML/AML_Project_2024/data/Action-Net/SXY_train.pkl\")\n",
        "\n",
        "#for action in emg_annotations:\n",
        "sample_no = 1099\n",
        "signal = torch.from_numpy(emg_annotations.iloc[sample_no].features_EMG).float()\n",
        "title = emg_annotations.iloc[sample_no].labels"
      ]
    },
    {
      "cell_type": "code",
      "execution_count": null,
      "metadata": {
        "colab": {
          "base_uri": "https://localhost:8080/",
          "height": 738
        },
        "id": "wXvQ7OP6GjmP",
        "outputId": "8372f175-0797-47c4-b890-a2666ea3a2e4"
      },
      "outputs": [
        {
          "output_type": "display_data",
          "data": {
            "text/plain": [
              "<Figure size 1600x800 with 8 Axes>"
            ],
            "image/png": "[encoded data removed]"
          },
          "metadata": {}
        }
      ],
      "source": [
        "compute_spectrogram(signal, title)"
      ]
    },
    {
      "cell_type": "markdown",
      "metadata": {
        "id": "SVEEPueNxxwi"
      },
      "source": [
        "##ACTION-NET-Classifiers"
      ]
    },
    {
      "cell_type": "markdown",
      "metadata": {
        "id": "xy-KOxbmf_BX"
      },
      "source": [
        "##Unimodal: EMG and RGB"
      ]
    },
    {
      "cell_type": "markdown",
      "metadata": {
        "id": "vxVVkE-QK0rr"
      },
      "source": [
        "modality=\"['EMG']\",\\\n",
        "split=SXY-SXY,\\\n",
        "models.EMG.model=LSTM_EMG or MLP_EMG or CNN_EMG\\\n",
        "//////////////////////////////////\\\n",
        " modality=\"['RGB']\" , \\\n",
        " split=S04-S04,  \\\n",
        " models.RGB.model=LSTM or MLP\n"
      ]
    },
    {
      "cell_type": "code",
      "execution_count": null,
      "metadata": {
        "id": "0-57YrSdxvBx"
      },
      "outputs": [],
      "source": [
        "%%bash\n",
        "\n",
        "cd aml23-ego\n",
        "\n",
        "python train_classifier_emg.py\\\n",
        "  config=configs/default.yaml\\\n",
        "  action=train\\\n",
        "  name=CNN_EMG_04dropout_NormalizeFalse\\\n",
        "  modality=\"['EMG']\"\\\n",
        "  feat_avg=False\\\n",
        "  fusion_modalities=False\\\n",
        "  train.num_clips=10\\\n",
        "  train.dense_sampling.RGB=True\\\n",
        "  train.dense_sampling.EMG=True\\\n",
        "  train.num_frames_per_clip.RGB=25\\\n",
        "  train.num_frames_per_clip.EMG=25\\\n",
        "  test.num_clips=10\\\n",
        "  test.dense_sampling.RGB=True\\\n",
        "  test.dense_sampling.EMG=True\\\n",
        "  test.num_frames_per_clip.RGB=25\\\n",
        "  test.num_frames_per_clip.EMG=25\\\n",
        "  dataset.annotations_path=/content/drive/MyDrive/AML/AML_Project_2024/data/Action-Net/\\\n",
        "  dataset.shift=SXY-SXY\\\n",
        "  dataset.RGB.features_name=/content/drive/MyDrive/AML/AML_Project_2024/saved_features/Action-Net-RGB/ActionNet_saved_feat_I3D_10clips_25frames_Dense_05dropout_NormalizeFalse_10sec-actions_myo-right-timestamps\\\n",
        "  dataset.RGB.data_path=data/Action-Net-RGB\\\n",
        "  dataset.EMG.data_path=/content/drive/MyDrive/AML/AML_Project_2024/data/Action-Net/\\\n",
        "  dataset.EMG.features_name=/content/drive/MyDrive/AML/AML_Project_2024/data/Action-Net/\\\n",
        "  models.RGB.model=MLP\\\n",
        "  models.RGB.dropout=0.4\\\n",
        "  models.RGB.normalize=False\\\n",
        "  models.EMG.model=CNN_EMG\\\n",
        "  models.EMG.dropout=0.2\\\n",
        "  models.EMG.normalize=False\\\n",
        "  models.FUSION.model=FUSION_net\\\n",
        "  models.FUSION.dropout=0.2\\\n",
        "  models.FUSION.normalize=False\\"
      ]
    },
    {
      "cell_type": "code",
      "execution_count": null,
      "metadata": {
        "id": "FF2vl0-M262B"
      },
      "outputs": [],
      "source": [
        "#save the Experiment_logs\n",
        "!cp \"/content/aml23-ego/Experiment_logs/CNN_EMG_04dropout_NormalizeFalse/Jun10_12-30-03\" -r \"/content/drive/MyDrive/AML/AML_Project_2024/saved_models/Action-Net/Unimodal_EMG/\""
      ]
    },
    {
      "cell_type": "markdown",
      "metadata": {
        "id": "_8a8VHEbgIg8"
      },
      "source": [
        "Unimodal EMG_Spectrograms_CONV2D"
      ]
    },
    {
      "cell_type": "markdown",
      "metadata": {
        "id": "OfZ4v3f2fteF"
      },
      "source": [
        "##Multimodal classifier: EMG + RGB"
      ]
    },
    {
      "cell_type": "markdown",
      "metadata": {
        "id": "o5d-QI1mf74-"
      },
      "source": [
        "modality:[\"RGB\", \"EMG\"]\\\n",
        "dataset.shift=S04-S04\\\n",
        "models.RGB.model=MLP or LSTM \\\n",
        "models.EMG.model=LSTM_EMG or MLP_EMG or CNN_EMG\\\n",
        "fusion_modalities:True (late feature fusion) or False (logits sum)\n",
        "AT THE END WE SELECTED MLP and MLP_EMG  \\\\\n",
        "FUSION_net vs basic_att_fusion"
      ]
    },
    {
      "cell_type": "code",
      "execution_count": null,
      "metadata": {
        "id": "vA4QNE0odkdF"
      },
      "outputs": [],
      "source": [
        "%%bash\n",
        "\n",
        "cd aml23-ego\n",
        "\n",
        "python train_classifier_emg.py\\\n",
        "  config=configs/default.yaml\\\n",
        "  action=train\\\n",
        "  name=MLP_EMG_04dropout_NormalizeFalse_LSTM_RGB_04dropout_NormalizeFalse_10clip_25frames_dense_LOGITS_SUM\\\n",
        "  modality=\"['EMG','RGB']\"\\\n",
        "  feat_avg=False\\\n",
        "  fusion_modalities=True\\\n",
        "  train.num_clips=10\\\n",
        "  train.dense_sampling.RGB=True\\\n",
        "  train.num_frames_per_clip.RGB=25\\\n",
        "  test.num_clips=10\\\n",
        "  test.dense_sampling.RGB=True\\\n",
        "  test.num_frames_per_clip.RGB=25\\\n",
        "  dataset.annotations_path=/content/drive/MyDrive/AML/AML_Project_2024/data/Action-Net/\\\n",
        "  dataset.shift=S04-S04\\\n",
        "  dataset.RGB.features_name=/content/drive/MyDrive/AML/AML_Project_2024/saved_features/Action-Net-RGB/ActionNet_saved_feat_I3D_10clips_25frames_Dense_05dropout_NormalizeFalse_10sec-actions_myo-right-timestamps\\\n",
        "  dataset.RGB.data_path=data/Action-Net-RGB \\\n",
        "  dataset.EMG.data_path=/content/drive/MyDrive/AML/AML_Project_2024/data/Action-Net/\\\n",
        "  dataset.EMG.features_name=/content/drive/MyDrive/AML/AML_Project_2024/data/Action-Net/\\\n",
        "  models.RGB.model=MLP\\\n",
        "  models.RGB.dropout=0.4\\\n",
        "  models.RGB.normalize=False\\\n",
        "  models.EMG.model=MLP_EMG\\\n",
        "  models.EMG.dropout=0.4\\\n",
        "  models.EMG.normalize=False\\\n",
        "  models.FUSION.model=basic_att_fusion\\\n",
        "  models.FUSION.dropout=0.2\\\n",
        "  models.FUSION.normalize=False\\"
      ]
    },
    {
      "cell_type": "code",
      "source": [
        "!cp \"/content/aml23-ego/Experiment_logs/MLP_EMG_04dropout_NormalizeFalse_LSTM_RGB_04dropout_NormalizeFalse_10clip_25frames_dense_LOGITS_SUM/Jun13_10-05-41\" -r \"/content/drive/MyDrive/AML/AML_Project_2024/saved_models/Action-Net/Multimodal_EMG/\""
      ],
      "metadata": {
        "id": "_M2r8ccBw08Y"
      },
      "execution_count": 13,
      "outputs": []
    }
  ],
  "metadata": {
    "accelerator": "GPU",
    "colab": {
      "collapsed_sections": [
        "I-NkG6fvGZpS",
        "75d11xMcKC2c",
        "MA1INs-OfL1I",
        "qaoMDOWGu664"
      ],
      "gpuType": "T4",
      "machine_shape": "hm",
      "provenance": []
    },
    "kernelspec": {
      "display_name": "Python 3",
      "name": "python3"
    },
    "language_info": {
      "codemirror_mode": {
        "name": "ipython",
        "version": 3
      },
      "file_extension": ".py",
      "mimetype": "text/x-python",
      "name": "python",
      "nbconvert_exporter": "python",
      "pygments_lexer": "ipython3",
      "version": "3.7.13"
    },
    "vscode": {
      "interpreter": {
        "hash": "2fc1f0eeae38a5df67b0f713e03196095ce1bfa55aa551576e8e58c2ba904c5a"
      }
    }
  },
  "nbformat": 4,
  "nbformat_minor": 0
}